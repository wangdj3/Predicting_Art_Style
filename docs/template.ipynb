{
 "cells": [
  {
   "cell_type": "markdown",
   "id": "e67aa990",
   "metadata": {},
   "source": [
    "# Templates"
   ]
  },
  {
   "cell_type": "markdown",
   "id": "171e00bf",
   "metadata": {},
   "source": [
    "> In this notebook we will be going over a standardized format for code and how the notebook will be organized."
   ]
  },
  {
   "cell_type": "markdown",
   "id": "bb431fd2",
   "metadata": {},
   "source": [
    "---"
   ]
  },
  {
   "cell_type": "markdown",
   "id": "19075205",
   "metadata": {},
   "source": [
    "## Notebook Format"
   ]
  },
  {
   "cell_type": "markdown",
   "id": "3a8c4358",
   "metadata": {},
   "source": [
    "Notebooks will be organized by what part of the project they will be focusing on and in what order they will be done in. `00_Problem_Statement` is the basis of our project so it will be the origin that our project begins at. `01_Data_Collection` is the first step of our project in gathering data, so it is labeled with `01`"
   ]
  },
  {
   "cell_type": "markdown",
   "id": "06d98d91",
   "metadata": {},
   "source": [
    "If there is an additional iteration or branch of a project that feels deserving of it's own notebook, such as in `03_EDA` may have more focus on a specific portion of data, so it would become it's own notebook called `03.1_EDA_Artist` if it's focus was on artists in EDA. "
   ]
  },
  {
   "cell_type": "markdown",
   "id": "043733cf",
   "metadata": {},
   "source": [
    "If a specific branch is being worked on my someone, they will format their notebook title as `[initials]_[project_section]` for example: `ks_Preprocessing_Modeling` for a branch she will be working on and not touched by fellow contributers. These will eventually be merged into the main file and deleted before completion."
   ]
  },
  {
   "cell_type": "markdown",
   "id": "f46f8458",
   "metadata": {},
   "source": [
    "Each folder will have a README.md to explain what the contents and purpose is."
   ]
  },
  {
   "cell_type": "markdown",
   "id": "64a73efc",
   "metadata": {},
   "source": [
    "---"
   ]
  },
  {
   "cell_type": "markdown",
   "id": "ad5672ae",
   "metadata": {},
   "source": [
    "## Code Format"
   ]
  },
  {
   "cell_type": "markdown",
   "id": "a7690fe2",
   "metadata": {},
   "source": [
    "Code will be put into functions for easiest utilization between membersof the project and for any users who wish to use the code on their own. "
   ]
  },
  {
   "cell_type": "markdown",
   "id": "806c3a94",
   "metadata": {},
   "source": [
    "`def function(arg1, arg2, arg3):`\\\n",
    "    `\"\"\" `\\\n",
    "    `function has such and such purpose to do such and such thing and returnms such \n",
    "        and such value`\n",
    "        \n",
    "   ` args: \n",
    "        arg1: the first argument takes in this value to do such and such with it\n",
    "        arg2: the second argument takes in this value to do such and such with it\n",
    "        etc...`\\\n",
    "    \\\n",
    "    `return single_element`"
   ]
  },
  {
   "cell_type": "code",
   "execution_count": null,
   "id": "e47124f3",
   "metadata": {},
   "outputs": [],
   "source": []
  }
 ],
 "metadata": {
  "kernelspec": {
   "display_name": "Python 3 (ipykernel)",
   "language": "python",
   "name": "python3"
  },
  "language_info": {
   "codemirror_mode": {
    "name": "ipython",
    "version": 3
   },
   "file_extension": ".py",
   "mimetype": "text/x-python",
   "name": "python",
   "nbconvert_exporter": "python",
   "pygments_lexer": "ipython3",
   "version": "3.9.13"
  }
 },
 "nbformat": 4,
 "nbformat_minor": 5
}

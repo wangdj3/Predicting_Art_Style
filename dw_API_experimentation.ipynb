{
 "cells": [
  {
   "cell_type": "code",
   "execution_count": null,
   "id": "0993e399",
   "metadata": {},
   "outputs": [],
   "source": [
    "#API documentation:     https://docs.google.com/document/d/1Vxi5lQnMCA21dvNm_7JVd6nQkDS3whV3YjRjbwWPfQU/edit#"
   ]
  },
  {
   "cell_type": "code",
   "execution_count": null,
   "id": "eb908848",
   "metadata": {},
   "outputs": [],
   "source": [
    "http://www.wikiart.org/en/search/{keyword}/{CurrentPage}/Artist?{dictionary}={value}&json=2&PageSize={pageSize}&sortBy={sort}\n",
    "http://www.wikiart.org/en/search/{keyword}/{CurrentPage}?{dictionary}={value}&json=1&PageSize={pageSize}&sortBy={sort}\n",
    "# {dictionary} - possible values are “paintingSchool”, “style”, “gallery”, “genre”, “material”,  “technique”, “artMovement”, “tag”, “inPublicDomain”\n",
    "# {sortBy} - possible values are “relevancy“ (default), “title”, “completiondate” (artwork only), “deathdate” (artist only)\n",
    "# Hint: Pass Any as keyword (case sensitive) when no keyword required\n",
    "\n",
    "example: http://www.wikiart.org/en/search/ukraine/1?genre=landscape&json=2&tag=forests-and-trees\n",
    "http://www.wikiart.org/en/search/Any/1?json=2&PageSize=60&genre=abstract-painting\n",
    "\n"
   ]
  },
  {
   "cell_type": "code",
   "execution_count": null,
   "id": "ea3da01f",
   "metadata": {},
   "outputs": [],
   "source": [
    "# https://www.wikiart.org/en/Api/2/login?accessCode=[accessCode]&secretCode=[secretcode]  \n",
    "https://www.wikiart.org/en/Api/2/login?accessCode=45bb41f4053e4319&secretCode=be9bf5f6cb2464b5 "
   ]
  },
  {
   "cell_type": "code",
   "execution_count": null,
   "id": "d0795916",
   "metadata": {},
   "outputs": [],
   "source": [
    "# 0 Abstract_Expressionism\n",
    "# 4 Baroque\n",
    "# 8 Early_Renaissance\n",
    "# 12 Impressionism\n",
    "# 16 New_Realism\n",
    "# 20 Post_Impressionism\n",
    "# 24 Symbolism\n",
    "\n",
    "\n",
    "http://www.wikiart.org/en/search/Any/1?json=2&PageSize=60&style=Abstract_Expressionism\n",
    "    http://www.wikiart.org/en/search/Any/1?json=2&PageSize=60&style=Realism\n",
    "        \n",
    "#these queries seem to always return same set of paintings, regardless of changing the params, \n",
    "# and they're definitely all different styles"
   ]
  },
  {
   "cell_type": "code",
   "execution_count": 1,
   "id": "af2b327d",
   "metadata": {},
   "outputs": [
    {
     "ename": "SyntaxError",
     "evalue": "invalid syntax (1443102558.py, line 1)",
     "output_type": "error",
     "traceback": [
      "\u001b[1;36m  File \u001b[1;32m\"C:\\Users\\panda\\AppData\\Local\\Temp\\ipykernel_39052\\1443102558.py\"\u001b[1;36m, line \u001b[1;32m1\u001b[0m\n\u001b[1;33m    https://www.wikiart.org/en/App/Painting/MostViewedPaintings?style=Impressionism  #NOT only impressionism\u001b[0m\n\u001b[1;37m          ^\u001b[0m\n\u001b[1;31mSyntaxError\u001b[0m\u001b[1;31m:\u001b[0m invalid syntax\n"
     ]
    }
   ],
   "source": [
    "https://www.wikiart.org/en/App/Painting/MostViewedPaintings?style=Impressionism  #NOT only impressionism"
   ]
  },
  {
   "cell_type": "code",
   "execution_count": null,
   "id": "fb4bc094",
   "metadata": {},
   "outputs": [],
   "source": []
  },
  {
   "cell_type": "code",
   "execution_count": null,
   "id": "752b6cdb",
   "metadata": {},
   "outputs": [],
   "source": []
  },
  {
   "cell_type": "code",
   "execution_count": 3,
   "id": "acd189bc",
   "metadata": {},
   "outputs": [],
   "source": [
    "import requests as rq\n",
    "from bs4 import BeautifulSoup as bsoup\n",
    "\n",
    "def get_title(url):\n",
    "\n",
    "    r = rq.get(url)\n",
    "    soup = bsoup(r.content)\n",
    "    title = soup.find_all(\"title\")[0].get_text()\n",
    "    print(title.split(\" - \")[0])\n",
    "\n",
    "def main():\n",
    "\n",
    "    urls = [\n",
    "    \"http://www.wikiart.org/en/henri-rousseau/tiger-in-a-tropical-storm-surprised-1891\",\n",
    "    \"http://www.wikiart.org/en/edgar-degas/the-green-dancer-1879\",\n",
    "    \"http://www.wikiart.org/en/claude-monet/dandelions\",\n",
    "    \"http://www.wikiart.org/en/albrecht-durer/the-little-owl-1506\",\n",
    "    \"http://www.wikiart.org/en/gustav-klimt/farmhouse-with-birch-trees-1903\",\n",
    "    \"http://www.wikiart.org/en/jean-michel-basquiat/boxer\",\n",
    "    \"http://www.wikiart.org/en/fernand-leger/three-women-1921\",\n",
    "    \"http://www.wikiart.org/en/alphonse-mucha/flower-1897\",\n",
    "    \"http://www.wikiart.org/en/alphonse-mucha/ruby\",\n",
    "    \"http://www.wikiart.org/en/georges-braque/musical-instruments-1908\",\n",
    "    \"http://www.wikiart.org/en/rene-magritte/the-evening-gown-1954\",\n",
    "    \"http://www.wikiart.org/en/m-c-escher/lizard-1\",\n",
    "    \"http://www.wikiart.org/en/johannes-vermeer/the-girl-with-a-pearl-earring\"\n",
    "    ]\n",
    "\n",
    "    for url in urls:\n",
    "        get_title(url)"
   ]
  },
  {
   "cell_type": "code",
   "execution_count": 4,
   "id": "a26ab6dc",
   "metadata": {},
   "outputs": [
    {
     "name": "stdout",
     "output_type": "stream",
     "text": [
      "Tiger in a Tropical Storm (Surprised!), 1891\n",
      "The Green Dancer, 1879\n",
      "Dandelions, c.1900\n",
      "The Little Owl, 1506\n",
      "Birch Forest, 1903\n",
      "Boxer, 1982\n",
      "Three Women, 1921\n",
      "Flower, 1897\n",
      "Ruby, 1899\n",
      "Musical Instruments, 1908\n",
      "The evening gown, 1954\n",
      "Lizard, 1942\n",
      "The Girl with a Pearl Earring, c.1665\n"
     ]
    }
   ],
   "source": [
    "main()"
   ]
  },
  {
   "cell_type": "code",
   "execution_count": 6,
   "id": "235a725b",
   "metadata": {},
   "outputs": [],
   "source": [
    "class Wikiart:\n",
    "    '''Class to access wikiart.org Data'''\n",
    "    def __init__(self):\n",
    "        self.BASE_URL = \"https://www.wikiart.org/en/\"\n",
    "        self.BASE_URL_API = self.BASE_URL + \"api/2/\"\n",
    "        self.BASE_URL_MOVEMENT = self.BASE_URL + 'artists-by-art-movement/'\n",
    "        self.ARTIST_DATA_URL = self.BASE_URL_API + \"UpdatedArtists\"\n",
    "\n",
    "    def write_artist_data_into_json_file(self):\n",
    "            artists = requests.get(ARTIST_DATA_URL).json()\n",
    "            all_artists = artists['data']\n",
    "\n",
    "            with open('artistdata.json', 'w') as outfile:\n",
    "                while artists['hasMore']:\n",
    "                    print('fetching next: pagination token',artists['paginationToken'])\n",
    "                    url = BASE_URL + \"?paginationToken=\" + artists['paginationToken']\n",
    "                    artists_next_page = requests.get(url).json()\n",
    "                    next_artists = artists_next_page['data']\n",
    "                    time.sleep(0.25)\n",
    "                    all_artists = all_artists + next_artists\n",
    "                    artists = artists_next_page\n",
    "                json.dump(all_artists, outfile, indent=4)\n",
    "\n",
    "# from pprint import pprint\n",
    "\n",
    "# with open('artistdata.json', 'r', encoding='utf-8') as data_file:    \n",
    "#     data = json.load(data_file)\n",
    "#     pprint(data)"
   ]
  },
  {
   "cell_type": "code",
   "execution_count": null,
   "id": "edce1634",
   "metadata": {},
   "outputs": [],
   "source": []
  },
  {
   "cell_type": "code",
   "execution_count": null,
   "id": "cb97a006",
   "metadata": {},
   "outputs": [],
   "source": []
  },
  {
   "cell_type": "code",
   "execution_count": null,
   "id": "8052efa7",
   "metadata": {},
   "outputs": [],
   "source": []
  },
  {
   "cell_type": "code",
   "execution_count": null,
   "id": "74257b94",
   "metadata": {},
   "outputs": [],
   "source": []
  },
  {
   "cell_type": "code",
   "execution_count": 8,
   "id": "1c3d6b3d",
   "metadata": {},
   "outputs": [
    {
     "data": {
      "text/html": [
       "<div>\n",
       "<style scoped>\n",
       "    .dataframe tbody tr th:only-of-type {\n",
       "        vertical-align: middle;\n",
       "    }\n",
       "\n",
       "    .dataframe tbody tr th {\n",
       "        vertical-align: top;\n",
       "    }\n",
       "\n",
       "    .dataframe thead th {\n",
       "        text-align: right;\n",
       "    }\n",
       "</style>\n",
       "<table border=\"1\" class=\"dataframe\">\n",
       "  <thead>\n",
       "    <tr style=\"text-align: right;\">\n",
       "      <th></th>\n",
       "      <th>artist</th>\n",
       "      <th>date</th>\n",
       "      <th>genre</th>\n",
       "      <th>pixelsx</th>\n",
       "      <th>pixelsy</th>\n",
       "      <th>size_bytes</th>\n",
       "      <th>source</th>\n",
       "      <th>style</th>\n",
       "      <th>title</th>\n",
       "      <th>artist_group</th>\n",
       "      <th>in_train</th>\n",
       "      <th>new_filename</th>\n",
       "    </tr>\n",
       "  </thead>\n",
       "  <tbody>\n",
       "    <tr>\n",
       "      <th>0</th>\n",
       "      <td>Barnett Newman</td>\n",
       "      <td>1955.0</td>\n",
       "      <td>abstract</td>\n",
       "      <td>15530.0</td>\n",
       "      <td>6911.0</td>\n",
       "      <td>9201912.0</td>\n",
       "      <td>wikiart</td>\n",
       "      <td>Color Field Painting</td>\n",
       "      <td>Uriel</td>\n",
       "      <td>train_only</td>\n",
       "      <td>True</td>\n",
       "      <td>102257.jpg</td>\n",
       "    </tr>\n",
       "    <tr>\n",
       "      <th>1</th>\n",
       "      <td>Barnett Newman</td>\n",
       "      <td>1950.0</td>\n",
       "      <td>abstract</td>\n",
       "      <td>14559.0</td>\n",
       "      <td>6866.0</td>\n",
       "      <td>8867532.0</td>\n",
       "      <td>wikiart</td>\n",
       "      <td>Color Field Painting</td>\n",
       "      <td>Vir Heroicus Sublimis</td>\n",
       "      <td>train_only</td>\n",
       "      <td>True</td>\n",
       "      <td>75232.jpg</td>\n",
       "    </tr>\n",
       "    <tr>\n",
       "      <th>2</th>\n",
       "      <td>kiri nichol</td>\n",
       "      <td>2013.0</td>\n",
       "      <td>NaN</td>\n",
       "      <td>9003.0</td>\n",
       "      <td>9004.0</td>\n",
       "      <td>1756681.0</td>\n",
       "      <td>NaN</td>\n",
       "      <td>Neoplasticism</td>\n",
       "      <td>NaN</td>\n",
       "      <td>test_only</td>\n",
       "      <td>False</td>\n",
       "      <td>32145.jpg</td>\n",
       "    </tr>\n",
       "    <tr>\n",
       "      <th>3</th>\n",
       "      <td>kiri nichol</td>\n",
       "      <td>2013.0</td>\n",
       "      <td>NaN</td>\n",
       "      <td>9003.0</td>\n",
       "      <td>9004.0</td>\n",
       "      <td>1942046.0</td>\n",
       "      <td>NaN</td>\n",
       "      <td>Neoplasticism</td>\n",
       "      <td>NaN</td>\n",
       "      <td>test_only</td>\n",
       "      <td>False</td>\n",
       "      <td>20304.jpg</td>\n",
       "    </tr>\n",
       "    <tr>\n",
       "      <th>4</th>\n",
       "      <td>kiri nichol</td>\n",
       "      <td>2013.0</td>\n",
       "      <td>NaN</td>\n",
       "      <td>9003.0</td>\n",
       "      <td>9004.0</td>\n",
       "      <td>1526212.0</td>\n",
       "      <td>NaN</td>\n",
       "      <td>Neoplasticism</td>\n",
       "      <td>NaN</td>\n",
       "      <td>test_only</td>\n",
       "      <td>False</td>\n",
       "      <td>836.jpg</td>\n",
       "    </tr>\n",
       "  </tbody>\n",
       "</table>\n",
       "</div>"
      ],
      "text/plain": [
       "           artist    date     genre  pixelsx  pixelsy  size_bytes   source  \\\n",
       "0  Barnett Newman  1955.0  abstract  15530.0   6911.0   9201912.0  wikiart   \n",
       "1  Barnett Newman  1950.0  abstract  14559.0   6866.0   8867532.0  wikiart   \n",
       "2     kiri nichol  2013.0       NaN   9003.0   9004.0   1756681.0      NaN   \n",
       "3     kiri nichol  2013.0       NaN   9003.0   9004.0   1942046.0      NaN   \n",
       "4     kiri nichol  2013.0       NaN   9003.0   9004.0   1526212.0      NaN   \n",
       "\n",
       "                  style                  title artist_group  in_train  \\\n",
       "0  Color Field Painting                  Uriel   train_only      True   \n",
       "1  Color Field Painting  Vir Heroicus Sublimis   train_only      True   \n",
       "2         Neoplasticism                    NaN    test_only     False   \n",
       "3         Neoplasticism                    NaN    test_only     False   \n",
       "4         Neoplasticism                    NaN    test_only     False   \n",
       "\n",
       "  new_filename  \n",
       "0   102257.jpg  \n",
       "1    75232.jpg  \n",
       "2    32145.jpg  \n",
       "3    20304.jpg  \n",
       "4      836.jpg  "
      ]
     },
     "execution_count": 8,
     "metadata": {},
     "output_type": "execute_result"
    }
   ],
   "source": [
    "import pandas as pd\n",
    "test = pd.read_csv('all_data_info.csv')\n",
    "test.head()"
   ]
  },
  {
   "cell_type": "code",
   "execution_count": 9,
   "id": "bc27c3f1",
   "metadata": {},
   "outputs": [
    {
     "data": {
      "text/plain": [
       "(103250, 12)"
      ]
     },
     "execution_count": 9,
     "metadata": {},
     "output_type": "execute_result"
    }
   ],
   "source": [
    "test.shape"
   ]
  },
  {
   "cell_type": "code",
   "execution_count": 11,
   "id": "7fd69f31",
   "metadata": {},
   "outputs": [
    {
     "data": {
      "text/plain": [
       "(98702, 12)"
      ]
     },
     "execution_count": 11,
     "metadata": {},
     "output_type": "execute_result"
    }
   ],
   "source": [
    "test[test.source == 'wikiart'].shape"
   ]
  },
  {
   "cell_type": "code",
   "execution_count": 12,
   "id": "5f66d888",
   "metadata": {},
   "outputs": [
    {
     "data": {
      "text/html": [
       "<div>\n",
       "<style scoped>\n",
       "    .dataframe tbody tr th:only-of-type {\n",
       "        vertical-align: middle;\n",
       "    }\n",
       "\n",
       "    .dataframe tbody tr th {\n",
       "        vertical-align: top;\n",
       "    }\n",
       "\n",
       "    .dataframe thead th {\n",
       "        text-align: right;\n",
       "    }\n",
       "</style>\n",
       "<table border=\"1\" class=\"dataframe\">\n",
       "  <thead>\n",
       "    <tr style=\"text-align: right;\">\n",
       "      <th></th>\n",
       "      <th>pixelsx</th>\n",
       "      <th>pixelsy</th>\n",
       "      <th>size_bytes</th>\n",
       "    </tr>\n",
       "  </thead>\n",
       "  <tbody>\n",
       "    <tr>\n",
       "      <th>count</th>\n",
       "      <td>103250.000000</td>\n",
       "      <td>103250.000000</td>\n",
       "      <td>1.032500e+05</td>\n",
       "    </tr>\n",
       "    <tr>\n",
       "      <th>mean</th>\n",
       "      <td>960.808097</td>\n",
       "      <td>984.089976</td>\n",
       "      <td>3.883235e+05</td>\n",
       "    </tr>\n",
       "    <tr>\n",
       "      <th>std</th>\n",
       "      <td>596.270314</td>\n",
       "      <td>625.139336</td>\n",
       "      <td>8.784776e+05</td>\n",
       "    </tr>\n",
       "    <tr>\n",
       "      <th>min</th>\n",
       "      <td>200.000000</td>\n",
       "      <td>162.000000</td>\n",
       "      <td>3.516000e+03</td>\n",
       "    </tr>\n",
       "    <tr>\n",
       "      <th>25%</th>\n",
       "      <td>581.000000</td>\n",
       "      <td>599.000000</td>\n",
       "      <td>9.438625e+04</td>\n",
       "    </tr>\n",
       "    <tr>\n",
       "      <th>50%</th>\n",
       "      <td>800.000000</td>\n",
       "      <td>800.000000</td>\n",
       "      <td>1.676700e+05</td>\n",
       "    </tr>\n",
       "    <tr>\n",
       "      <th>75%</th>\n",
       "      <td>1102.000000</td>\n",
       "      <td>1097.000000</td>\n",
       "      <td>3.401280e+05</td>\n",
       "    </tr>\n",
       "    <tr>\n",
       "      <th>max</th>\n",
       "      <td>25528.000000</td>\n",
       "      <td>9541.000000</td>\n",
       "      <td>3.244314e+07</td>\n",
       "    </tr>\n",
       "  </tbody>\n",
       "</table>\n",
       "</div>"
      ],
      "text/plain": [
       "             pixelsx        pixelsy    size_bytes\n",
       "count  103250.000000  103250.000000  1.032500e+05\n",
       "mean      960.808097     984.089976  3.883235e+05\n",
       "std       596.270314     625.139336  8.784776e+05\n",
       "min       200.000000     162.000000  3.516000e+03\n",
       "25%       581.000000     599.000000  9.438625e+04\n",
       "50%       800.000000     800.000000  1.676700e+05\n",
       "75%      1102.000000    1097.000000  3.401280e+05\n",
       "max     25528.000000    9541.000000  3.244314e+07"
      ]
     },
     "execution_count": 12,
     "metadata": {},
     "output_type": "execute_result"
    }
   ],
   "source": [
    "test.describe()\n"
   ]
  },
  {
   "cell_type": "code",
   "execution_count": 13,
   "id": "3d1de1ab",
   "metadata": {},
   "outputs": [
    {
     "data": {
      "text/html": [
       "<div>\n",
       "<style scoped>\n",
       "    .dataframe tbody tr th:only-of-type {\n",
       "        vertical-align: middle;\n",
       "    }\n",
       "\n",
       "    .dataframe tbody tr th {\n",
       "        vertical-align: top;\n",
       "    }\n",
       "\n",
       "    .dataframe thead th {\n",
       "        text-align: right;\n",
       "    }\n",
       "</style>\n",
       "<table border=\"1\" class=\"dataframe\">\n",
       "  <thead>\n",
       "    <tr style=\"text-align: right;\">\n",
       "      <th></th>\n",
       "      <th>pixelsx</th>\n",
       "      <th>pixelsy</th>\n",
       "      <th>size_bytes</th>\n",
       "    </tr>\n",
       "  </thead>\n",
       "  <tbody>\n",
       "    <tr>\n",
       "      <th>count</th>\n",
       "      <td>98702.000000</td>\n",
       "      <td>98702.000000</td>\n",
       "      <td>9.870200e+04</td>\n",
       "    </tr>\n",
       "    <tr>\n",
       "      <th>mean</th>\n",
       "      <td>958.644344</td>\n",
       "      <td>980.786023</td>\n",
       "      <td>3.887404e+05</td>\n",
       "    </tr>\n",
       "    <tr>\n",
       "      <th>std</th>\n",
       "      <td>594.694918</td>\n",
       "      <td>624.405002</td>\n",
       "      <td>8.806927e+05</td>\n",
       "    </tr>\n",
       "    <tr>\n",
       "      <th>min</th>\n",
       "      <td>200.000000</td>\n",
       "      <td>162.000000</td>\n",
       "      <td>3.516000e+03</td>\n",
       "    </tr>\n",
       "    <tr>\n",
       "      <th>25%</th>\n",
       "      <td>578.000000</td>\n",
       "      <td>593.000000</td>\n",
       "      <td>9.418800e+04</td>\n",
       "    </tr>\n",
       "    <tr>\n",
       "      <th>50%</th>\n",
       "      <td>800.000000</td>\n",
       "      <td>800.000000</td>\n",
       "      <td>1.677770e+05</td>\n",
       "    </tr>\n",
       "    <tr>\n",
       "      <th>75%</th>\n",
       "      <td>1100.000000</td>\n",
       "      <td>1095.000000</td>\n",
       "      <td>3.426372e+05</td>\n",
       "    </tr>\n",
       "    <tr>\n",
       "      <th>max</th>\n",
       "      <td>25528.000000</td>\n",
       "      <td>9541.000000</td>\n",
       "      <td>3.244314e+07</td>\n",
       "    </tr>\n",
       "  </tbody>\n",
       "</table>\n",
       "</div>"
      ],
      "text/plain": [
       "            pixelsx       pixelsy    size_bytes\n",
       "count  98702.000000  98702.000000  9.870200e+04\n",
       "mean     958.644344    980.786023  3.887404e+05\n",
       "std      594.694918    624.405002  8.806927e+05\n",
       "min      200.000000    162.000000  3.516000e+03\n",
       "25%      578.000000    593.000000  9.418800e+04\n",
       "50%      800.000000    800.000000  1.677770e+05\n",
       "75%     1100.000000   1095.000000  3.426372e+05\n",
       "max    25528.000000   9541.000000  3.244314e+07"
      ]
     },
     "execution_count": 13,
     "metadata": {},
     "output_type": "execute_result"
    }
   ],
   "source": [
    "test[test.source == 'wikiart'].describe()"
   ]
  },
  {
   "cell_type": "code",
   "execution_count": null,
   "id": "90caa25a",
   "metadata": {},
   "outputs": [],
   "source": []
  }
 ],
 "metadata": {
  "kernelspec": {
   "display_name": "Python 3 (ipykernel)",
   "language": "python",
   "name": "python3"
  },
  "language_info": {
   "codemirror_mode": {
    "name": "ipython",
    "version": 3
   },
   "file_extension": ".py",
   "mimetype": "text/x-python",
   "name": "python",
   "nbconvert_exporter": "python",
   "pygments_lexer": "ipython3",
   "version": "3.9.13"
  }
 },
 "nbformat": 4,
 "nbformat_minor": 5
}
